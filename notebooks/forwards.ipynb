{
 "cells": [
  {
   "cell_type": "code",
   "execution_count": 1,
   "metadata": {},
   "outputs": [],
   "source": [
    "%config IPCompleter.greedy=True\n",
    "import \n",
    "importlib._setup()"
   ]
  },
  {
   "cell_type": "code",
   "execution_count": 2,
   "metadata": {},
   "outputs": [],
   "source": [
    "# %load_ext snakeviz"
   ]
  },
  {
   "cell_type": "code",
   "execution_count": 3,
   "metadata": {},
   "outputs": [],
   "source": [
    "%load_ext autoreload\n",
    "%autoreload 2"
   ]
  },
  {
   "cell_type": "code",
   "execution_count": 5,
   "metadata": {},
   "outputs": [],
   "source": [
    "# native modules\n",
    "import sys\n",
    "import datetime\n",
    "from os import path, listdir\n",
    "from random import choice, sample\n",
    "import re\n",
    "import itertools\n",
    "# from importlib import reload"
   ]
  },
  {
   "cell_type": "code",
   "execution_count": 6,
   "metadata": {},
   "outputs": [],
   "source": [
    "# data study\n",
    "import pandas as pd\n",
    "import numpy as np\n",
    "from copy import deepcopy\n",
    "import requests"
   ]
  },
  {
   "cell_type": "code",
   "execution_count": null,
   "metadata": {},
   "outputs": [],
   "source": [
    "# multithreading\n",
    "# import concurrent.futures\n",
    "# import threading"
   ]
  },
  {
   "cell_type": "code",
   "execution_count": 7,
   "metadata": {},
   "outputs": [],
   "source": [
    "# charting\n",
    "import matplotlib.pyplot as plt\n",
    "%matplotlib inline"
   ]
  },
  {
   "cell_type": "code",
   "execution_count": null,
   "metadata": {},
   "outputs": [],
   "source": [
    "# Recon project\n",
    "# sys.path.append(r'C:\\Users\\kklekota\\PycharmProjects\\Recon')\n",
    "# import utils.xml_parser as parser"
   ]
  },
  {
   "cell_type": "code",
   "execution_count": null,
   "metadata": {},
   "outputs": [],
   "source": [
    "# mkt data project\n",
    "# sys.path.append(r'C:\\Users\\kklekota\\PycharmProjects\\mkt_data')\n",
    "# from mkt_data.mkt_data import const, helper\n",
    "# import mkt_data.mkt_data as md"
   ]
  },
  {
   "cell_type": "code",
   "execution_count": null,
   "metadata": {},
   "outputs": [],
   "source": [
    "# macs service\n",
    "# from macs_service import Client, generate_json_data\n",
    "# client = Client(\"http://leviathan33:5000\")"
   ]
  },
  {
   "cell_type": "code",
   "execution_count": null,
   "metadata": {},
   "outputs": [],
   "source": [
    "# %%HTML\n",
    "# <iframe src=\"http://ci-macsi/jenkins/view/MACS%20services%20status/\" \n",
    "#  width=\"600\"  height=\"450\" frameborder=\"0\" scrolling=\"no\"></iframe>"
   ]
  },
  {
   "cell_type": "code",
   "execution_count": null,
   "metadata": {},
   "outputs": [],
   "source": [
    "# service project\n",
    "# sys.path.append(r'C:\\Users\\kklekota\\PycharmProjects\\Service')\n",
    "# import foxutils as fu\n",
    "# import h5helper\n",
    "# import mxgrid_replay as replay"
   ]
  },
  {
   "cell_type": "code",
   "execution_count": 25,
   "metadata": {},
   "outputs": [],
   "source": [
    "def print_repl_quality(label, ref_label, ref_value, repl_label, repl_value, is_nominal_adj=False):\n",
    "    mult = nominal if is_nominal_adj else 1.0\n",
    "    REPL_FMT_STR = '{}:\\n\\t{:<15}{}\\n\\t{:<15}{}\\n\\t{:<15}{}'\n",
    "    print(REPL_FMT_STR.format(label, ref_label, mult * ref_value, \n",
    "                              repl_label, mult * repl_value, \n",
    "                              \"difference\", mult * (ref_value - repl_value)))"
   ]
  },
  {
   "cell_type": "code",
   "execution_count": 34,
   "metadata": {},
   "outputs": [],
   "source": [
    "from fox_toolbox.utils import xml_parser\n",
    "from fox_toolbox.utils.rates import Swaption"
   ]
  },
  {
   "cell_type": "code",
   "execution_count": 123,
   "metadata": {},
   "outputs": [],
   "source": [
    "inps = (\n",
    "    r\"D:\\Work\\Issues\\Mizuho\\20190313_hedge_curves\\irsmform_mx13548vm_MAINHEDGE.xml\",\n",
    "    r\"D:\\Work\\Issues\\Mizuho\\20190313_hedge_curves\\irsmform_mx13548vm_no_hedge.xml\",\n",
    ")\n",
    "outs = (\n",
    "    r\"D:\\Work\\Issues\\Mizuho\\20190313_hedge_curves\\irsmout_mx13548vm_MAINHEDGE.xml\",\n",
    "    r\"D:\\Work\\Issues\\Mizuho\\20190313_hedge_curves\\irsmout_mx13548vm_no_hedge.xml\",\n",
    ")"
   ]
  },
  {
   "cell_type": "code",
   "execution_count": 131,
   "metadata": {},
   "outputs": [],
   "source": [
    "id_ = 1\n",
    "inp, out = inps[id_], outs[id_]"
   ]
  },
  {
   "cell_type": "code",
   "execution_count": 132,
   "metadata": {},
   "outputs": [],
   "source": [
    "(_, irsmform), (_, irsmout) = tuple(map(xml_parser.get_xml, (inp, out)))"
   ]
  },
  {
   "cell_type": "code",
   "execution_count": 133,
   "metadata": {},
   "outputs": [],
   "source": [
    "main_curve, sprd_curves = xml_parser.get_curves(irsmform)\n",
    "fwd_curve = sprd_curves[0]"
   ]
  },
  {
   "cell_type": "code",
   "execution_count": 134,
   "metadata": {},
   "outputs": [],
   "source": [
    "cal_bskt = list(xml_parser.get_calib_basket(irsmout))"
   ]
  },
  {
   "cell_type": "code",
   "execution_count": 135,
   "metadata": {},
   "outputs": [],
   "source": [
    "# s1 = pd.Series([f.fwd for f in cal_bskt], index=[f.expiry for f in cal_bskt], name='HEDGE')\n",
    "s2 = pd.Series([f.fwd for f in cal_bskt], index=[f.expiry for f in cal_bskt], name='MAIN')"
   ]
  },
  {
   "cell_type": "code",
   "execution_count": 58,
   "metadata": {},
   "outputs": [
    {
     "name": "stdout",
     "output_type": "stream",
     "text": [
      "Forward 1:\n",
      "\tmacs           0.0106814541926\n",
      "\treplication    0.010681454192580837\n",
      "\tdifference     1.9163490239115788e-14\n",
      "Forward 2:\n",
      "\tmacs           0.0123241526962\n",
      "\treplication    0.012324152696253213\n",
      "\tdifference     -5.321264262558856e-14\n",
      "Forward 3:\n",
      "\tmacs           0.0137941858399\n",
      "\treplication    0.013794185839884222\n",
      "\tdifference     1.5779044737485037e-14\n",
      "Forward 4:\n",
      "\tmacs           0.0152081518786\n",
      "\treplication    0.015208151878594789\n",
      "\tdifference     5.2111093218343285e-15\n",
      "Forward 5:\n",
      "\tmacs           0.0165271461454\n",
      "\treplication    0.016527146145450602\n",
      "\tdifference     -5.060188379424346e-14\n",
      "Forward 6:\n",
      "\tmacs           0.0177622709212\n",
      "\treplication    0.017762270921200536\n",
      "\tdifference     -5.377642775528102e-16\n",
      "Forward 7:\n",
      "\tmacs           0.0189102409738\n",
      "\treplication    0.01891024097361195\n",
      "\tdifference     1.880509636897898e-13\n",
      "Forward 8:\n",
      "\tmacs           0.0199551820336\n",
      "\treplication    0.019955182033574652\n",
      "\tdifference     2.5347779430973105e-14\n",
      "Forward 9:\n",
      "\tmacs           0.0207638654457\n",
      "\treplication    0.020763865445113206\n",
      "\tdifference     5.867945018778187e-13\n"
     ]
    }
   ],
   "source": [
    "for i, cal_instr in enumerate(cal_bskt):\n",
    "    fwd = cal_instr.get_swap_rate(main_curve, fwd_curve=fwd_curve)\n",
    "    macs_fwd = cal_instr.fwd\n",
    "    print_repl_quality(f'Forward {i+1}', 'macs', macs_fwd, 'replication', fwd)"
   ]
  },
  {
   "cell_type": "code",
   "execution_count": 59,
   "metadata": {},
   "outputs": [],
   "source": [
    "def truncate_date(date):\n",
    "    return round(float(date), 6)\n",
    "\n",
    "def get_cal_instr_dates(cal_instr: Swaption):\n",
    "    dates = [cal_instr.expiry, cal_instr.start_date] + list(cal_instr.payment_dates)\n",
    "    return set(map(truncate_date, dates))\n",
    "\n",
    "from functools import reduce\n",
    "cal_bskt_dates = reduce(set.union, map(get_cal_instr_dates, cal_bskt))"
   ]
  },
  {
   "cell_type": "code",
   "execution_count": 60,
   "metadata": {},
   "outputs": [],
   "source": [
    "curve_pillars = set(map(truncate_date, main_curve.curve_pillars))"
   ]
  },
  {
   "cell_type": "code",
   "execution_count": 61,
   "metadata": {},
   "outputs": [
    {
     "data": {
      "text/plain": [
       "set()"
      ]
     },
     "execution_count": 61,
     "metadata": {},
     "output_type": "execute_result"
    }
   ],
   "source": [
    "cal_bskt_dates - curve_pillars"
   ]
  },
  {
   "cell_type": "code",
   "execution_count": 66,
   "metadata": {},
   "outputs": [
    {
     "data": {
      "text/plain": [
       "[' 36 ; 9.498630 ; Basic ; self.Underlying=self.Underlying+1000000.000000*(Libor(0,9.509589,10.013699, 0.511111111111,tenor=6)*0.508333333333)*Discount(0, 9.498630, 10.010959)*Pay(0, 1.000000, 9.498630, 0, 1020, ExerciseDate = 9.000000)  ']"
      ]
     },
     "execution_count": 66,
     "metadata": {},
     "output_type": "execute_result"
    }
   ],
   "source": [
    "list(irsmform.find('.//Formula').itertext())"
   ]
  },
  {
   "cell_type": "code",
   "execution_count": 67,
   "metadata": {},
   "outputs": [],
   "source": [
    "formulas = [f.text.strip() for f in irsmform.iterfind('.//Formula')]"
   ]
  },
  {
   "cell_type": "code",
   "execution_count": 70,
   "metadata": {},
   "outputs": [],
   "source": [
    "formula_dates = set(truncate_date(float(f.split(';')[1])) for f in formulas)"
   ]
  },
  {
   "cell_type": "code",
   "execution_count": 72,
   "metadata": {},
   "outputs": [
    {
     "data": {
      "text/plain": [
       "set()"
      ]
     },
     "execution_count": 72,
     "metadata": {},
     "output_type": "execute_result"
    }
   ],
   "source": [
    "formula_dates - curve_pillars"
   ]
  },
  {
   "cell_type": "code",
   "execution_count": 141,
   "metadata": {},
   "outputs": [],
   "source": [
    "FLA_RE = re.compile(('Libor\\(0,(\\d+\\.\\d+),(\\d+\\.\\d+),[^\\)]*\\)'\n",
    "                     '|Discount\\(0,\\s*(\\d+\\.\\d+),\\s*(\\d+\\.\\d+)\\)'\n",
    "                     '|Pay\\(0,\\s*\\d+\\.\\d+,\\s*(\\d+\\.\\d+),[^\\)]*\\)'))\n",
    "\n",
    "def get_formula_dates(fla):\n",
    "    res = FLA_RE.findall(fla)\n",
    "    return set(map(truncate_date, (f for f in chain(*res) if f)))\n",
    "    \n",
    "payoff_dates = reduce(set.union, map(get_formula_dates, formulas))"
   ]
  },
  {
   "cell_type": "code",
   "execution_count": 122,
   "metadata": {},
   "outputs": [
    {
     "data": {
      "text/plain": [
       "set()"
      ]
     },
     "execution_count": 122,
     "metadata": {},
     "output_type": "execute_result"
    }
   ],
   "source": [
    "libor_dates - curve_pillars"
   ]
  },
  {
   "cell_type": "code",
   "execution_count": 142,
   "metadata": {},
   "outputs": [
    {
     "data": {
      "text/plain": [
       "10.013699"
      ]
     },
     "execution_count": 142,
     "metadata": {},
     "output_type": "execute_result"
    }
   ],
   "source": [
    "payoff_dates = set.union(payoff_dates, cal_bskt_dates)\n",
    "max(payoff_dates)"
   ]
  },
  {
   "cell_type": "code",
   "execution_count": 138,
   "metadata": {},
   "outputs": [],
   "source": [
    "df = pd.DataFrame([s1, s2]).T"
   ]
  },
  {
   "cell_type": "code",
   "execution_count": 140,
   "metadata": {},
   "outputs": [
    {
     "data": {
      "text/plain": [
       "0.99726    3.142000e-10\n",
       "2.00000    2.251000e-10\n",
       "2.99726    2.583000e-10\n",
       "3.99726    3.032000e-10\n",
       "5.00274    4.134000e-10\n",
       "6.00274    3.538000e-10\n",
       "7.00274    2.359000e-10\n",
       "8.00274    4.100000e-11\n",
       "9.00000    8.250000e-11\n",
       "dtype: float64"
      ]
     },
     "execution_count": 140,
     "metadata": {},
     "output_type": "execute_result"
    }
   ],
   "source": [
    "df.HEDGE - df.MAIN"
   ]
  },
  {
   "cell_type": "code",
   "execution_count": null,
   "metadata": {},
   "outputs": [],
   "source": []
  }
 ],
 "metadata": {
  "kernelspec": {
   "display_name": "p3test",
   "language": "python",
   "name": "p3test"
  },
  "language_info": {
   "codemirror_mode": {
    "name": "ipython",
    "version": 3
   },
   "file_extension": ".py",
   "mimetype": "text/x-python",
   "name": "python",
   "nbconvert_exporter": "python",
   "pygments_lexer": "ipython3",
   "version": "3.6.4"
  }
 },
 "nbformat": 4,
 "nbformat_minor": 2
}
