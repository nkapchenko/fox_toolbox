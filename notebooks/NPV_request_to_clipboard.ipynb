{
 "cells": [
  {
   "cell_type": "code",
   "execution_count": 1,
   "metadata": {},
   "outputs": [],
   "source": [
    "from fox_toolbox.utils import xml_parser as xml\n",
    "import pandas as pd\n",
    "import os\n",
    "\n",
    "\n",
    "%load_ext autoreload\n",
    "%autoreload 2"
   ]
  },
  {
   "cell_type": "code",
   "execution_count": 2,
   "metadata": {},
   "outputs": [],
   "source": [
    "dict_path = r\"D:\\WORKSPACE\\JIRA\\NCB\\Not-Eff\""
   ]
  },
  {
   "cell_type": "code",
   "execution_count": 3,
   "metadata": {},
   "outputs": [],
   "source": [
    "def npv_info(xml_root):\n",
    "    npv_node = [node for node in xml_root.findall('.//Query') if (node.find('QRType').text == ' Npv ')][0]\n",
    "    var_vals = {}\n",
    "    for variable in npv_node.findall('.//Variable'):\n",
    "        var_vals[xml.get_str_node(variable, 'VariableDescription').split(' ;')[0]] = xml.get_float_node(variable, 'VariableValue')\n",
    "        \n",
    "    return pd.DataFrame(var_vals, index=[0])\n",
    "        "
   ]
  },
  {
   "cell_type": "code",
   "execution_count": 4,
   "metadata": {},
   "outputs": [],
   "source": [
    "def get_npv_info(dict_path, regex = 'irsmout'):\n",
    "    dfs = []\n",
    "    for xml_file in (x for x in os.listdir(dict_path) if regex in x):\n",
    "        _, xml_root = xml.get_xml(os.path.join(dict_path, xml_file))\n",
    "        npv_df = npv_info(xml_root)\n",
    "        npv_df.insert(loc=0, column='irsm_name', value=regex)\n",
    "        dfs.append(npv_df)\n",
    "    return pd.concat(dfs, ignore_index=True).to_clipboard()"
   ]
  },
  {
   "cell_type": "code",
   "execution_count": 5,
   "metadata": {},
   "outputs": [],
   "source": [
    "get_npv_info(dict_path)"
   ]
  },
  {
   "cell_type": "code",
   "execution_count": 11,
   "metadata": {},
   "outputs": [],
   "source": [
    "get_npv_info(dict_path, regex = 'ced.res')"
   ]
  },
  {
   "cell_type": "code",
   "execution_count": null,
   "metadata": {},
   "outputs": [],
   "source": []
  }
 ],
 "metadata": {
  "kernelspec": {
   "display_name": "Python 3",
   "language": "python",
   "name": "python3"
  },
  "language_info": {
   "codemirror_mode": {
    "name": "ipython",
    "version": 3
   },
   "file_extension": ".py",
   "mimetype": "text/x-python",
   "name": "python",
   "nbconvert_exporter": "python",
   "pygments_lexer": "ipython3",
   "version": "3.7.1"
  }
 },
 "nbformat": 4,
 "nbformat_minor": 4
}
