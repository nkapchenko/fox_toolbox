{
 "cells": [
  {
   "cell_type": "code",
   "execution_count": 1,
   "metadata": {},
   "outputs": [],
   "source": [
    "from fox_toolbox.utils import service\n",
    "import numpy as np\n",
    "from datetime import datetime\n",
    "\n",
    "from macs_service import Client\n",
    "client = Client(\"http://leviathan33:5000\")"
   ]
  },
  {
   "cell_type": "code",
   "execution_count": 7,
   "metadata": {},
   "outputs": [],
   "source": [
    "curve = {\n",
    "        \"dates\": [\"2000-12-05T00:00:00.000Z\", \"2030-12-05T00:00:00.000Z\"],\n",
    "        \"zeroRates\": [0.01, 0.01]\n",
    "        }\n",
    "\n",
    "libor_curve = {\n",
    "        \"dates\": [\"2000-12-05T00:00:00.000Z\", \"2030-12-05T00:00:00.000Z\"],\n",
    "        \"zeroRates\": [0.02, 0.02]\n",
    "        }\n",
    "\n",
    "smiles = {\n",
    "           'optionExpiries': ['1Y'],\n",
    "           'strikes': [-1., 0., 0.5, 1.],\n",
    "           'swapTenors': ['1Y', '3Y'],\n",
    "           'volatilities': [0.03] * 2 * 4,  # #tenor x #strikes\n",
    "           'volatilityType': 'NORMAL'\n",
    "          }\n",
    "\n",
    "correls = {\n",
    "            'correlations': [0.5],\n",
    "            'dates': ['1Y'],\n",
    "            'swapTenors': ['1Y', '3Y']\n",
    "            }\n",
    "\n",
    "asof = datetime(2018, 5, 12)\n",
    "fixingDate = datetime(2018, 5, 12)\n",
    "paymentDate = datetime(2019, 5 ,12)\n",
    "start = datetime(2018, 5, 12)\n",
    "end = datetime(2019, 5 ,12)\n",
    "tenor = 6\n",
    "floatFreq = '3M'\n",
    "fixFreq = '6M'\n",
    "fixRate = 0.8\n",
    "spread = 0.0\n",
    "N = 100\n",
    "ccy = 'EUR'\n",
    "expiry = '1Y'\n",
    "\n",
    "initial_stub_date = datetime(2018, 4, 12)\n",
    "indexes = [f'{ccy}LIBOR1M']\n",
    "\n",
    "\n",
    "dsc_curve = curve"
   ]
  },
  {
   "cell_type": "code",
   "execution_count": 8,
   "metadata": {},
   "outputs": [
    {
     "data": {
      "text/plain": [
       "{'id': ['847afbfcbadb'],\n",
       " 'marketValue': [0.9900498337],\n",
       " 'resultCount': [1],\n",
       " 'traceAddress': [' http://leviathan33:5000/info/847afbfcbadb ']}"
      ]
     },
     "execution_count": 8,
     "metadata": {},
     "output_type": "execute_result"
    }
   ],
   "source": [
    "bond_task = service.get_bond_task('EUR', curve, asof, paymentDate)\n",
    "client.evaluate(bond_task)"
   ]
  },
  {
   "cell_type": "code",
   "execution_count": 9,
   "metadata": {},
   "outputs": [
    {
     "data": {
      "text/plain": [
       "{'id': ['5fd10abe20a0'],\n",
       " 'marketValue': [0.0196285332],\n",
       " 'resultCount': [1],\n",
       " 'traceAddress': [' http://leviathan33:5000/info/5fd10abe20a0 ']}"
      ]
     },
     "execution_count": 9,
     "metadata": {},
     "output_type": "execute_result"
    }
   ],
   "source": [
    "libor_task = service.get_libor_flow_task(ccy, dsc_curve, asof, tenor, fixingDate, paymentDate, libor_curve)\n",
    "client.evaluate(libor_task)"
   ]
  },
  {
   "cell_type": "code",
   "execution_count": 10,
   "metadata": {},
   "outputs": [
    {
     "data": {
      "text/plain": [
       "{'id': ['7a28c07d8e44'],\n",
       " 'marketValue': [0.1873776912],\n",
       " 'resultCount': [1],\n",
       " 'traceAddress': [' http://leviathan33:5000/info/7a28c07d8e44 ']}"
      ]
     },
     "execution_count": 10,
     "metadata": {},
     "output_type": "execute_result"
    }
   ],
   "source": [
    "swap_task = service.get_swap_task(start, end, floatFreq, fixFreq, fixRate, spread, N, ccy, curve, asof)\n",
    "client.evaluate(swap_task)"
   ]
  },
  {
   "cell_type": "code",
   "execution_count": 12,
   "metadata": {},
   "outputs": [
    {
     "ename": "InternalServerError",
     "evalue": "\n  http://leviathan33:5000/info/c5bc28ce0e8e ",
     "output_type": "error",
     "traceback": [
      "\u001b[0;31mInternalServerError\u001b[0m\u001b[0;31m:\u001b[0m \n  http://leviathan33:5000/info/c5bc28ce0e8e \n"
     ]
    }
   ],
   "source": [
    "swo_task = service.get_swo_task(start, end, floatFreq, fixFreq, fixRate, spread, N, ccy, curve, asof, expiry, smiles)\n",
    "client.evaluate(swo_task)"
   ]
  },
  {
   "cell_type": "code",
   "execution_count": 13,
   "metadata": {},
   "outputs": [],
   "source": [
    "service.add_swap_initial_stub(swap_task, initial_stub_date, indexes)"
   ]
  },
  {
   "cell_type": "code",
   "execution_count": 14,
   "metadata": {},
   "outputs": [],
   "source": [
    "service.add_swap_historical_fixing(swap_task, ccy, 1, initial_stub_date, value=0.2)"
   ]
  },
  {
   "cell_type": "code",
   "execution_count": 16,
   "metadata": {},
   "outputs": [
    {
     "data": {
      "text/plain": [
       "{'id': ['7e2a5c15a3de'],\n",
       " 'marketValue': [1.764546641],\n",
       " 'resultCount': [1],\n",
       " 'traceAddress': [' http://leviathan33:5000/info/7e2a5c15a3de ']}"
      ]
     },
     "execution_count": 16,
     "metadata": {},
     "output_type": "execute_result"
    }
   ],
   "source": [
    "client.evaluate(swap_task)"
   ]
  }
 ],
 "metadata": {
  "kernelspec": {
   "display_name": "Python 3",
   "language": "python",
   "name": "python3"
  },
  "language_info": {
   "codemirror_mode": {
    "name": "ipython",
    "version": 3
   },
   "file_extension": ".py",
   "mimetype": "text/x-python",
   "name": "python",
   "nbconvert_exporter": "python",
   "pygments_lexer": "ipython3",
   "version": "3.7.1"
  }
 },
 "nbformat": 4,
 "nbformat_minor": 4
}
