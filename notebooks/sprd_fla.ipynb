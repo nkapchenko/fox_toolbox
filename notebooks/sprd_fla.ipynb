{
 "cells": [
  {
   "cell_type": "code",
   "execution_count": 1,
   "metadata": {},
   "outputs": [],
   "source": [
    "%config IPCompleter.greedy=True"
   ]
  },
  {
   "cell_type": "code",
   "execution_count": 2,
   "metadata": {},
   "outputs": [],
   "source": [
    "# %load_ext snakeviz"
   ]
  },
  {
   "cell_type": "code",
   "execution_count": 3,
   "metadata": {},
   "outputs": [],
   "source": [
    "%load_ext autoreload\n",
    "%autoreload 2"
   ]
  },
  {
   "cell_type": "code",
   "execution_count": 4,
   "metadata": {},
   "outputs": [],
   "source": [
    "# native modules\n",
    "import sys\n",
    "import datetime\n",
    "from os import path, listdir\n",
    "from random import choice, sample\n",
    "import re\n",
    "import itertools\n",
    "from importlib import reload"
   ]
  },
  {
   "cell_type": "code",
   "execution_count": 18,
   "metadata": {},
   "outputs": [],
   "source": [
    "# data study\n",
    "import pandas as pd\n",
    "import numpy as np\n",
    "from copy import deepcopy\n",
    "import requests\n",
    "import json"
   ]
  },
  {
   "cell_type": "code",
   "execution_count": 6,
   "metadata": {},
   "outputs": [],
   "source": [
    "# multithreading\n",
    "# import concurrent.futures\n",
    "# import threading"
   ]
  },
  {
   "cell_type": "code",
   "execution_count": 7,
   "metadata": {},
   "outputs": [],
   "source": [
    "# charting\n",
    "import matplotlib.pyplot as plt\n",
    "%matplotlib inline"
   ]
  },
  {
   "cell_type": "code",
   "execution_count": null,
   "metadata": {},
   "outputs": [],
   "source": [
    "# Recon project\n",
    "# sys.path.append(r'C:\\Users\\kklekota\\PycharmProjects\\Recon')\n",
    "# import utils.xml_parser as parser"
   ]
  },
  {
   "cell_type": "code",
   "execution_count": 71,
   "metadata": {},
   "outputs": [],
   "source": [
    "# mkt data project\n",
    "# sys.path.append(r'C:\\Users\\kklekota\\PycharmProjects\\mkt_data')\n",
    "from mkt_data.mkt_data import const, helper\n",
    "import mkt_data.mkt_data as md"
   ]
  },
  {
   "cell_type": "code",
   "execution_count": null,
   "metadata": {},
   "outputs": [],
   "source": [
    "# macs service\n",
    "# from macs_service import Client, generate_json_data\n",
    "# client = Client(\"http://leviathan33:5000\")"
   ]
  },
  {
   "cell_type": "code",
   "execution_count": 70,
   "metadata": {},
   "outputs": [
    {
     "data": {
      "text/html": [
       "<iframe src=\"http://ci-macsi/jenkins/view/MACS%20services%20status/\" \n",
       " width=\"600\"  height=\"450\" frameborder=\"0\" scrolling=\"no\"></iframe>"
      ],
      "text/plain": [
       "<IPython.core.display.HTML object>"
      ]
     },
     "metadata": {},
     "output_type": "execute_result"
    }
   ],
   "source": [
    "%%HTML\n",
    "<iframe src=\"http://ci-macsi/jenkins/view/MACS%20services%20status/\" \n",
    " width=\"600\"  height=\"450\" frameborder=\"0\" scrolling=\"no\"></iframe>"
   ]
  },
  {
   "cell_type": "code",
   "execution_count": null,
   "metadata": {},
   "outputs": [],
   "source": [
    "# service project\n",
    "# sys.path.append(r'C:\\Users\\kklekota\\PycharmProjects\\Service')\n",
    "# import foxutils as fu\n",
    "# import h5helper\n",
    "# import mxgrid_replay as replay"
   ]
  },
  {
   "cell_type": "code",
   "execution_count": 122,
   "metadata": {},
   "outputs": [],
   "source": [
    "from fox_toolbox.sprd import sprd\n",
    "from fox_toolbox.utils import xml_parser\n",
    "from fox_toolbox.utils.rates import Swaption\n",
    "from fox_toolbox.sprd import tsr"
   ]
  },
  {
   "cell_type": "code",
   "execution_count": 11,
   "metadata": {},
   "outputs": [
    {
     "name": "stdout",
     "output_type": "stream",
     "text": [
      "Help on function get_premium in module fox_toolbox.sprd.sprd:\n",
      "\n",
      "get_premium(fwd1:float, vol1:fox_toolbox.utils.rates.Volatility, fwd2:float, vol2:fox_toolbox.utils.rates.Volatility, corr:float, expiry:float, strike:float)\n",
      "\n"
     ]
    }
   ],
   "source": [
    "help(sprd.get_premium)"
   ]
  },
  {
   "cell_type": "code",
   "execution_count": 143,
   "metadata": {},
   "outputs": [],
   "source": [
    "fpath = r\"D:\\Work\\BGM_TESTS\\FMT-66\\results\\20190408_mc_4770216_smile_sabr_2f_B_SKEW_CURVE_FREEZING\\irsms\\JC202_00_RatesBump.xml\"\n",
    "_, irsmform = xml_parser.get_xml(fpath)\n",
    "dsc_curve, sprd_curves = xml_parser.get_curves(irsmform)\n",
    "fwd_curve = sprd_curves[0]"
   ]
  },
  {
   "cell_type": "code",
   "execution_count": 144,
   "metadata": {},
   "outputs": [],
   "source": [
    "fpath = r\"D:\\Work\\BGM_TESTS\\FMT-66\\results\\20190408_mc_4770216_smile_sabr_2f_B_SKEW_CURVE_FREEZING\\irsms\\JC202_00_RatesBump.result.xml\"\n",
    "_, irsmout = xml_parser.get_xml(fpath)"
   ]
  },
  {
   "cell_type": "code",
   "execution_count": 145,
   "metadata": {},
   "outputs": [],
   "source": [
    "cal_bskt = [x for x in xml_parser.get_calib_basket(irsmout) if x.cal_premium > 0.0]"
   ]
  },
  {
   "cell_type": "code",
   "execution_count": 146,
   "metadata": {},
   "outputs": [
    {
     "data": {
      "text/plain": [
       "28"
      ]
     },
     "execution_count": 146,
     "metadata": {},
     "output_type": "execute_result"
    }
   ],
   "source": [
    "len(cal_bskt)"
   ]
  },
  {
   "cell_type": "code",
   "execution_count": 147,
   "metadata": {},
   "outputs": [
    {
     "data": {
      "text/plain": [
       "{'_dcfs': array([0.50136986, 0.49863014, 0.50136986, 0.50136986]),\n",
       " '_expiry': 0.4986301369863,\n",
       " '_libor_tenor': 6,\n",
       " '_pmnt_dates': array([1.0109589 , 1.50958904, 2.0109589 , 2.51232877]),\n",
       " '_start_date': 0.5095890410959,\n",
       " '_vol': Volatility(value=0.0749, type='SLN', shift_size=0.01),\n",
       " 'annuity': 2.0037620355137,\n",
       " 'cal_premium': 0.0004480662123,\n",
       " 'cal_type': 'ATM',\n",
       " 'cal_vol': 0.0750255964136,\n",
       " 'fwd': 0.0005812762924,\n",
       " 'fwdAdj': 0.0005821626561,\n",
       " 'fwdAdjModel': 0.0005817683548,\n",
       " 'lvl': 0,\n",
       " 'strike': 0.0005812762923760001,\n",
       " 'tgt_premium': nan}"
      ]
     },
     "execution_count": 147,
     "metadata": {},
     "output_type": "execute_result"
    }
   ],
   "source": [
    "cal_bskt[0].__dict__"
   ]
  },
  {
   "cell_type": "code",
   "execution_count": 148,
   "metadata": {},
   "outputs": [],
   "source": [
    "correl_node = irsmout.find('.//BGMCMSSOCalib')\n",
    "# sprd_nodes = list(xml_parser.findall('.//CMSSpreadCaplet'))\n",
    "correls = xml_parser.get_delim_float_node(correl_node, './/CMSSOMarketCorr//Values')\n",
    "premiums = xml_parser.get_delim_float_node(correl_node, './/CMSSOMarketPrice//Values')"
   ]
  },
  {
   "cell_type": "code",
   "execution_count": 149,
   "metadata": {},
   "outputs": [
    {
     "name": "stdout",
     "output_type": "stream",
     "text": [
      "Mean reversion: 0.03\n"
     ]
    }
   ],
   "source": [
    "mr = xml_parser.get_float_node(irsmform, './/MeanRR')\n",
    "print(f'Mean reversion: {mr}')"
   ]
  },
  {
   "cell_type": "code",
   "execution_count": 150,
   "metadata": {},
   "outputs": [],
   "source": [
    "def print_repl_quality(label, ref_label, ref_value, repl_label, repl_value, is_nominal_adj=True):\n",
    "    mult = 1e4 if is_nominal_adj else 1.0\n",
    "    REPL_FMT_STR = '{}:\\n\\t{:<15}{}\\n\\t{:<15}{}\\n\\t{:<15}{}'\n",
    "    print(REPL_FMT_STR.format(label, ref_label, mult * ref_value, \n",
    "                              repl_label, mult * repl_value, \n",
    "                              \"difference\", mult * (ref_value - repl_value)))"
   ]
  },
  {
   "cell_type": "code",
   "execution_count": 142,
   "metadata": {},
   "outputs": [
    {
     "name": "stdout",
     "output_type": "stream",
     "text": [
      "0.50\t0.000047\t0.000024\t0.03\t0.030000\n",
      "1.01\t0.000109\t0.000059\t0.03\t0.030000\n",
      "1.50\t0.000192\t0.000100\t0.03\t0.030000\n",
      "2.01\t0.000270\t0.000146\t0.03\t0.002996\n",
      "3.00\t0.000466\t0.000255\t0.03\t-0.046424\n",
      "4.00\t0.000685\t0.000382\t0.03\t-0.064638\n",
      "5.00\t0.000939\t0.000527\t0.03\t-0.074773\n",
      "6.00\t0.001258\t0.000696\t0.03\t-0.083691\n",
      "7.01\t0.001679\t0.000882\t0.03\t-0.096258\n",
      "8.01\t0.002120\t0.001081\t0.03\t-0.102544\n",
      "9.01\t0.002582\t0.001291\t0.03\t-0.107114\n",
      "10.01\t0.003045\t0.001510\t0.03\t-0.109602\n",
      "15.01\t0.008138\t0.002621\t0.03\t-0.196298\n",
      "20.01\t0.015694\t0.003715\t0.03\t-0.183998\n"
     ]
    }
   ],
   "source": [
    "dic_ = {}\n",
    "eps = 1e-4\n",
    "\n",
    "size = int(len(cal_bskt) / 2)\n",
    "for i in range(size):\n",
    "    instr2 = cal_bskt[i]\n",
    "    instr = cal_bskt[i + size]\n",
    "    strike = instr1.fwd - instr2.fwd\n",
    "    \n",
    "    adj_tsr_short = instr2.fwdAdj - instr2.fwd\n",
    "    adj_bgm_short = instr2.fwdAdjModel - instr2.fwd\n",
    "        \n",
    "    fwd = instr.fwd\n",
    "    adj_tsr = instr.fwdAdj - fwd\n",
    "    adj_bgm = instr.fwdAdjModel - fwd\n",
    "    \n",
    "    a, _ = tsr.get_linear_coeffs(instr, dsc_curve, mr, instr.start_date, fwd_curve)\n",
    "    coeff = instr.get_annuity(dsc_curve) / dsc_curve.get_dsc(instr.start_date)\n",
    "    variance = adj_tsr / (coeff * a)\n",
    "    tol = eps #* math.sqrt(instr.expiry)\n",
    "    \n",
    "    tgt_adj = instr.fwdAdjModel - instr2.fwdAdjModel + instr2.fwdAdj - fwd\n",
    "    if tgt_adj < adj_tsr:\n",
    "        tgt_adj = min(adj_tsr, tgt_adj + tol)\n",
    "    else:\n",
    "        tgt_adj = max(adj_tsr, tgt_adj - tol)\n",
    "    \n",
    "    tgt_a = tgt_adj / (coeff * variance)\n",
    "    impl_mr = tsr.get_impl_mr(tgt_a, instr, dsc_curve, instr.start_date, fwd_curve)\n",
    "    \n",
    "    print(f'{instr.expiry:0.2f}\\t{adj_tsr:0.6f}\\t{adj_bgm:0.6f}\\t{mr:0.2f}\\t{impl_mr:0.6f}')\n",
    "    \n",
    "    dic_.setdefault('Expiry', []).append(instr2.expiry)\n",
    "    dic_.setdefault('MR', []).append(impl_mr)\n",
    "    \n",
    "df = pd.DataFrame(dic_)\n",
    "df['ExpiryLbl'] = df['Expiry'].apply(float_to_lbl)\n",
    "df.to_clipboard()"
   ]
  },
  {
   "cell_type": "code",
   "execution_count": 101,
   "metadata": {},
   "outputs": [
    {
     "name": "stdout",
     "output_type": "stream",
     "text": [
      "0.50\t5.35\t5.35\t0.000352\n",
      "1.01\t8.23\t8.23\t-0.000372\n",
      "1.50\t10.40\t10.40\t-0.000296\n",
      "2.01\t12.28\t12.28\t-0.000220\n",
      "3.00\t15.45\t15.45\t-0.000026\n",
      "4.00\t18.14\t18.14\t-0.000059\n",
      "5.00\t20.92\t20.92\t0.000009\n",
      "6.00\t23.87\t23.87\t0.000482\n",
      "7.01\t27.22\t27.22\t0.000220\n",
      "8.01\t30.42\t30.42\t0.000540\n",
      "9.01\t33.67\t33.67\t0.000406\n",
      "10.01\t36.79\t36.79\t-0.000010\n",
      "15.01\t70.12\t70.12\t0.000043\n",
      "20.01\t106.66\t106.66\t-0.000126\n"
     ]
    }
   ],
   "source": [
    "size = int(len(cal_bskt) / 2)\n",
    "for i in range(size):\n",
    "    instr2 = cal_bskt[i]\n",
    "    instr1 = cal_bskt[i + size]\n",
    "    strike = instr1.fwd - instr2.fwd\n",
    "    dsc = dsc_curve.get_dsc(instr2.expiry)\n",
    "    \n",
    "    \n",
    "    \n",
    "    premium_tsr = dsc * sprd.get_premium(instr1.fwdAdj, instr1.vol, instr2.fwdAdj, instr2.vol, correls[i], instr2.expiry, strike) * 1e4\n",
    "    premium_tgt = premiums[i] * 1e4\n",
    "    err = premium_tsr - premium_tgt\n",
    "    print(f'{instr2.expiry:0.2f}\\t{premium_tgt:0.2f}\\t{premium_tsr:0.2f}\\t{err:0.6f}')"
   ]
  },
  {
   "cell_type": "code",
   "execution_count": 151,
   "metadata": {},
   "outputs": [
    {
     "name": "stdout",
     "output_type": "stream",
     "text": [
      "0.50\t5.37\t5.23\t0.145367\t0.7617049381198\t0.7106218905086832\n",
      "1.01\t8.23\t7.96\t0.266628\t0.7729554050119\t0.7267717125731636\n",
      "1.50\t10.33\t9.90\t0.431146\t0.7835401898504\t0.733325251805418\n",
      "2.01\t12.14\t11.60\t0.536925\t0.7936070795779\t0.7472117789875863\n",
      "3.00\t15.03\t14.28\t0.747931\t0.8122499820006\t0.7717150056256233\n",
      "4.00\t17.38\t16.45\t0.928802\t0.8291651326575\t0.7940169449848637\n",
      "5.00\t19.68\t18.62\t1.061836\t0.8444705939037\t0.8135608390433596\n",
      "6.00\t21.95\t20.74\t1.201922\t0.8583195479395\t0.830271595479515\n",
      "7.01\t24.01\t22.83\t1.177705\t0.8709438177369\t0.8483314143955547\n",
      "8.01\t26.28\t24.71\t1.569641\t0.8822453957329\t0.8565583331250137\n",
      "9.01\t28.08\t26.54\t1.542835\t0.8924741619497\t0.8707602825521472\n",
      "10.01\t30.08\t28.22\t1.856651\t0.9017470051627\t0.8788222098284555\n",
      "15.01\t38.09\t36.32\t1.768845\t0.936494944075\t0.9236099594639958\n",
      "20.01\t47.52\t42.36\t5.155598\t0.957554545909\t0.9291045655058343\n"
     ]
    }
   ],
   "source": [
    "dic_ = {}\n",
    "\n",
    "size = int(len(cal_bskt) / 2)\n",
    "for i in range(size):\n",
    "    instr2 = cal_bskt[i]\n",
    "    instr1 = cal_bskt[i + size]\n",
    "    strike = instr1.fwd - instr2.fwd\n",
    "    dsc = dsc_curve.get_dsc(instr2.expiry)\n",
    "    \n",
    "    corr_tsr = correls[i]\n",
    "    premium_tsr = dsc * sprd.get_premium(instr1.fwdAdj, instr1.vol, instr2.fwdAdj, instr2.vol, corr_tsr, instr2.expiry, strike) * 1e4\n",
    "    premium_bgm = dsc * sprd.get_premium(instr1.fwdAdjModel, instr1.vol, instr2.fwdAdjModel, instr2.vol, corr_tsr, instr2.expiry, strike) * 1e4\n",
    "    nd_tgt_premium = premium_tsr / dsc / 1e4\n",
    "    impl_corr_bgm = sprd.get_impl_corr(nd_tgt_premium, instr1.fwdAdjModel, instr1.vol, \n",
    "                                       instr2.fwdAdjModel, instr2.vol, instr2.expiry, strike)\n",
    "    \n",
    "    print(f'{instr2.expiry:0.2f}\\t{premium_tsr:0.2f}\\t{premium_bgm:0.2f}\\t{premium_tsr-premium_bgm:0.6f}\\t{corr_tsr}\\t{impl_corr_bgm}')\n",
    "    \n",
    "    \n",
    "    dic_.setdefault('Expiry', []).append(instr2.expiry)\n",
    "    \n",
    "    dic_.setdefault('RateLong', []).append(instr1.fwd)\n",
    "    dic_.setdefault('RateShort', []).append(instr2.fwd)\n",
    "    \n",
    "    dic_.setdefault('TSRRateLong', []).append(instr1.fwdAdj)\n",
    "    dic_.setdefault('BGMRateLong', []).append(instr1.fwdAdjModel)\n",
    "    \n",
    "    dic_.setdefault('TSRRateShort', []).append(instr2.fwdAdj)\n",
    "    dic_.setdefault('BGMRateShort', []).append(instr2.fwdAdjModel)\n",
    "    \n",
    "    dic_.setdefault('TSRPremium', []).append(premium_tsr)\n",
    "    dic_.setdefault('BGMPremium', []).append(premium_bgm)\n",
    "    \n",
    "    dic_.setdefault('TSRCorr', []).append(corr_tsr)\n",
    "    dic_.setdefault('BGMImpliedCorr', []).append(impl_corr_bgm)"
   ]
  },
  {
   "cell_type": "code",
   "execution_count": 152,
   "metadata": {},
   "outputs": [],
   "source": [
    "df = pd.DataFrame(dic_)\n",
    "df['ExpiryLbl'] = df['Expiry'].apply(float_to_lbl)\n",
    "df.to_clipboard()"
   ]
  },
  {
   "cell_type": "code",
   "execution_count": 106,
   "metadata": {},
   "outputs": [],
   "source": [
    "import math\n",
    "def float_to_lbl(x):\n",
    "    tmp = (round(x * 12.)) / 12.\n",
    "    years = int(math.floor(tmp))\n",
    "    months = int(round((tmp - years) * 12.))\n",
    "    res = ''\n",
    "    if years > 0:\n",
    "        res += '{}Y'.format(years)\n",
    "    if months > 0:\n",
    "        res += '{}M'.format(months)\n",
    "    return res"
   ]
  },
  {
   "cell_type": "code",
   "execution_count": 73,
   "metadata": {},
   "outputs": [
    {
     "data": {
      "text/plain": [
       "{'CMS_AS': 'CMS spread ATM Straddle quotes',\n",
       " 'CMS_CF': 'CMS spread Cap/Floor quotes',\n",
       " 'CMS_SLAS': 'CMS spread single-look ATM Straddle',\n",
       " 'CMS_SW': 'CMS swap'}"
      ]
     },
     "execution_count": 73,
     "metadata": {},
     "output_type": "execute_result"
    }
   ],
   "source": [
    "const.CMS_DIC"
   ]
  },
  {
   "cell_type": "code",
   "execution_count": 74,
   "metadata": {},
   "outputs": [],
   "source": [
    "df = md.get_store()['CMS_SLAS']"
   ]
  },
  {
   "cell_type": "code",
   "execution_count": 75,
   "metadata": {},
   "outputs": [
    {
     "data": {
      "text/html": [
       "<div>\n",
       "<style scoped>\n",
       "    .dataframe tbody tr th:only-of-type {\n",
       "        vertical-align: middle;\n",
       "    }\n",
       "\n",
       "    .dataframe tbody tr th {\n",
       "        vertical-align: top;\n",
       "    }\n",
       "\n",
       "    .dataframe thead th {\n",
       "        text-align: right;\n",
       "    }\n",
       "</style>\n",
       "<table border=\"1\" class=\"dataframe\">\n",
       "  <thead>\n",
       "    <tr style=\"text-align: right;\">\n",
       "      <th></th>\n",
       "      <th></th>\n",
       "      <th>RICNAME</th>\n",
       "      <th>SPREAD</th>\n",
       "      <th>EXPIRY</th>\n",
       "      <th>CCY</th>\n",
       "      <th>SP_PRM</th>\n",
       "      <th>STRIKE</th>\n",
       "      <th>SL CORR</th>\n",
       "      <th>SL NVOL</th>\n",
       "      <th>DATE</th>\n",
       "    </tr>\n",
       "    <tr>\n",
       "      <th>DATE</th>\n",
       "      <th>CCY</th>\n",
       "      <th></th>\n",
       "      <th></th>\n",
       "      <th></th>\n",
       "      <th></th>\n",
       "      <th></th>\n",
       "      <th></th>\n",
       "      <th></th>\n",
       "      <th></th>\n",
       "      <th></th>\n",
       "    </tr>\n",
       "  </thead>\n",
       "  <tbody>\n",
       "    <tr>\n",
       "      <th rowspan=\"5\" valign=\"top\">2016-08-29</th>\n",
       "      <th>EUR</th>\n",
       "      <td>CO1SOEUR11001Y</td>\n",
       "      <td>110</td>\n",
       "      <td>01Y</td>\n",
       "      <td>EUR</td>\n",
       "      <td>36.2</td>\n",
       "      <td>76.2</td>\n",
       "      <td>0.602</td>\n",
       "      <td>45.32</td>\n",
       "      <td>2016-08-29</td>\n",
       "    </tr>\n",
       "    <tr>\n",
       "      <th>EUR</th>\n",
       "      <td>CO1SOEUR11002Y</td>\n",
       "      <td>110</td>\n",
       "      <td>02Y</td>\n",
       "      <td>EUR</td>\n",
       "      <td>48.5</td>\n",
       "      <td>90.4</td>\n",
       "      <td>0.753</td>\n",
       "      <td>42.85</td>\n",
       "      <td>2016-08-29</td>\n",
       "    </tr>\n",
       "    <tr>\n",
       "      <th>EUR</th>\n",
       "      <td>CO1SOEUR11003M</td>\n",
       "      <td>110</td>\n",
       "      <td>03M</td>\n",
       "      <td>EUR</td>\n",
       "      <td>18.6</td>\n",
       "      <td>63.3</td>\n",
       "      <td>0.306</td>\n",
       "      <td>46.29</td>\n",
       "      <td>2016-08-29</td>\n",
       "    </tr>\n",
       "    <tr>\n",
       "      <th>EUR</th>\n",
       "      <td>CO1SOEUR11003Y</td>\n",
       "      <td>110</td>\n",
       "      <td>03Y</td>\n",
       "      <td>EUR</td>\n",
       "      <td>55.9</td>\n",
       "      <td>102.1</td>\n",
       "      <td>0.811</td>\n",
       "      <td>40.19</td>\n",
       "      <td>2016-08-29</td>\n",
       "    </tr>\n",
       "    <tr>\n",
       "      <th>EUR</th>\n",
       "      <td>CO1SOEUR11005Y</td>\n",
       "      <td>110</td>\n",
       "      <td>05Y</td>\n",
       "      <td>EUR</td>\n",
       "      <td>67.0</td>\n",
       "      <td>97.6</td>\n",
       "      <td>0.857</td>\n",
       "      <td>37.27</td>\n",
       "      <td>2016-08-29</td>\n",
       "    </tr>\n",
       "  </tbody>\n",
       "</table>\n",
       "</div>"
      ],
      "text/plain": [
       "                       RICNAME SPREAD EXPIRY  CCY  SP_PRM  STRIKE  SL CORR  \\\n",
       "DATE       CCY                                                               \n",
       "2016-08-29 EUR  CO1SOEUR11001Y    110    01Y  EUR    36.2    76.2    0.602   \n",
       "           EUR  CO1SOEUR11002Y    110    02Y  EUR    48.5    90.4    0.753   \n",
       "           EUR  CO1SOEUR11003M    110    03M  EUR    18.6    63.3    0.306   \n",
       "           EUR  CO1SOEUR11003Y    110    03Y  EUR    55.9   102.1    0.811   \n",
       "           EUR  CO1SOEUR11005Y    110    05Y  EUR    67.0    97.6    0.857   \n",
       "\n",
       "                SL NVOL        DATE  \n",
       "DATE       CCY                       \n",
       "2016-08-29 EUR    45.32  2016-08-29  \n",
       "           EUR    42.85  2016-08-29  \n",
       "           EUR    46.29  2016-08-29  \n",
       "           EUR    40.19  2016-08-29  \n",
       "           EUR    37.27  2016-08-29  "
      ]
     },
     "execution_count": 75,
     "metadata": {},
     "output_type": "execute_result"
    }
   ],
   "source": [
    "df.head()"
   ]
  },
  {
   "cell_type": "code",
   "execution_count": 77,
   "metadata": {},
   "outputs": [
    {
     "name": "stderr",
     "output_type": "stream",
     "text": [
      "C:\\Users\\kklekota\\AppData\\Local\\Continuum\\anaconda3\\envs\\p3test\\lib\\site-packages\\ipykernel_launcher.py:1: PerformanceWarning: indexing past lexsort depth may impact performance.\n",
      "  \"\"\"Entry point for launching an IPython kernel.\n"
     ]
    },
    {
     "data": {
      "text/html": [
       "<div>\n",
       "<style scoped>\n",
       "    .dataframe tbody tr th:only-of-type {\n",
       "        vertical-align: middle;\n",
       "    }\n",
       "\n",
       "    .dataframe tbody tr th {\n",
       "        vertical-align: top;\n",
       "    }\n",
       "\n",
       "    .dataframe thead th {\n",
       "        text-align: right;\n",
       "    }\n",
       "</style>\n",
       "<table border=\"1\" class=\"dataframe\">\n",
       "  <thead>\n",
       "    <tr style=\"text-align: right;\">\n",
       "      <th></th>\n",
       "      <th></th>\n",
       "      <th>RICNAME</th>\n",
       "      <th>SPREAD</th>\n",
       "      <th>EXPIRY</th>\n",
       "      <th>CCY</th>\n",
       "      <th>SP_PRM</th>\n",
       "      <th>STRIKE</th>\n",
       "      <th>SL CORR</th>\n",
       "      <th>SL NVOL</th>\n",
       "      <th>DATE</th>\n",
       "    </tr>\n",
       "    <tr>\n",
       "      <th>DATE</th>\n",
       "      <th>CCY</th>\n",
       "      <th></th>\n",
       "      <th></th>\n",
       "      <th></th>\n",
       "      <th></th>\n",
       "      <th></th>\n",
       "      <th></th>\n",
       "      <th></th>\n",
       "      <th></th>\n",
       "      <th></th>\n",
       "    </tr>\n",
       "  </thead>\n",
       "  <tbody>\n",
       "    <tr>\n",
       "      <th rowspan=\"5\" valign=\"top\">2019-03-29</th>\n",
       "      <th>USD</th>\n",
       "      <td>CO1SOUSD11001Y</td>\n",
       "      <td>110</td>\n",
       "      <td>01Y</td>\n",
       "      <td>USD</td>\n",
       "      <td>28.8</td>\n",
       "      <td>21.7</td>\n",
       "      <td>0.814</td>\n",
       "      <td>36.71</td>\n",
       "      <td>2019-03-29</td>\n",
       "    </tr>\n",
       "    <tr>\n",
       "      <th>USD</th>\n",
       "      <td>CO1SOUSD11002Y</td>\n",
       "      <td>110</td>\n",
       "      <td>02Y</td>\n",
       "      <td>USD</td>\n",
       "      <td>46.2</td>\n",
       "      <td>38.3</td>\n",
       "      <td>0.778</td>\n",
       "      <td>42.65</td>\n",
       "      <td>2019-03-29</td>\n",
       "    </tr>\n",
       "    <tr>\n",
       "      <th>USD</th>\n",
       "      <td>CO1SOUSD11003M</td>\n",
       "      <td>110</td>\n",
       "      <td>03M</td>\n",
       "      <td>USD</td>\n",
       "      <td>13.4</td>\n",
       "      <td>-5.0</td>\n",
       "      <td>0.818</td>\n",
       "      <td>33.21</td>\n",
       "      <td>2019-03-29</td>\n",
       "    </tr>\n",
       "    <tr>\n",
       "      <th>USD</th>\n",
       "      <td>CO1SOUSD11003Y</td>\n",
       "      <td>110</td>\n",
       "      <td>03Y</td>\n",
       "      <td>USD</td>\n",
       "      <td>54.2</td>\n",
       "      <td>39.2</td>\n",
       "      <td>0.803</td>\n",
       "      <td>41.61</td>\n",
       "      <td>2019-03-29</td>\n",
       "    </tr>\n",
       "    <tr>\n",
       "      <th>USD</th>\n",
       "      <td>CO1SOUSD11005Y</td>\n",
       "      <td>110</td>\n",
       "      <td>05Y</td>\n",
       "      <td>USD</td>\n",
       "      <td>64.1</td>\n",
       "      <td>36.7</td>\n",
       "      <td>0.832</td>\n",
       "      <td>39.71</td>\n",
       "      <td>2019-03-29</td>\n",
       "    </tr>\n",
       "  </tbody>\n",
       "</table>\n",
       "</div>"
      ],
      "text/plain": [
       "                       RICNAME SPREAD EXPIRY  CCY  SP_PRM  STRIKE  SL CORR  \\\n",
       "DATE       CCY                                                               \n",
       "2019-03-29 USD  CO1SOUSD11001Y    110    01Y  USD    28.8    21.7    0.814   \n",
       "           USD  CO1SOUSD11002Y    110    02Y  USD    46.2    38.3    0.778   \n",
       "           USD  CO1SOUSD11003M    110    03M  USD    13.4    -5.0    0.818   \n",
       "           USD  CO1SOUSD11003Y    110    03Y  USD    54.2    39.2    0.803   \n",
       "           USD  CO1SOUSD11005Y    110    05Y  USD    64.1    36.7    0.832   \n",
       "\n",
       "                SL NVOL        DATE  \n",
       "DATE       CCY                       \n",
       "2019-03-29 USD    36.71  2019-03-29  \n",
       "           USD    42.65  2019-03-29  \n",
       "           USD    33.21  2019-03-29  \n",
       "           USD    41.61  2019-03-29  \n",
       "           USD    39.71  2019-03-29  "
      ]
     },
     "execution_count": 77,
     "metadata": {},
     "output_type": "execute_result"
    }
   ],
   "source": [
    "tmp = df.loc[df.DATE.max(), 'USD']\n",
    "tmp.head()"
   ]
  },
  {
   "cell_type": "code",
   "execution_count": 80,
   "metadata": {},
   "outputs": [
    {
     "data": {
      "text/html": [
       "<div>\n",
       "<style scoped>\n",
       "    .dataframe tbody tr th:only-of-type {\n",
       "        vertical-align: middle;\n",
       "    }\n",
       "\n",
       "    .dataframe tbody tr th {\n",
       "        vertical-align: top;\n",
       "    }\n",
       "\n",
       "    .dataframe thead th {\n",
       "        text-align: right;\n",
       "    }\n",
       "</style>\n",
       "<table border=\"1\" class=\"dataframe\">\n",
       "  <thead>\n",
       "    <tr style=\"text-align: right;\">\n",
       "      <th>EXPIRY</th>\n",
       "      <th>01Y</th>\n",
       "      <th>02Y</th>\n",
       "      <th>03M</th>\n",
       "      <th>03Y</th>\n",
       "      <th>05Y</th>\n",
       "      <th>06M</th>\n",
       "      <th>07Y</th>\n",
       "      <th>10Y</th>\n",
       "      <th>15Y</th>\n",
       "      <th>18M</th>\n",
       "      <th>20Y</th>\n",
       "    </tr>\n",
       "    <tr>\n",
       "      <th>SPREAD</th>\n",
       "      <th></th>\n",
       "      <th></th>\n",
       "      <th></th>\n",
       "      <th></th>\n",
       "      <th></th>\n",
       "      <th></th>\n",
       "      <th></th>\n",
       "      <th></th>\n",
       "      <th></th>\n",
       "      <th></th>\n",
       "      <th></th>\n",
       "    </tr>\n",
       "  </thead>\n",
       "  <tbody>\n",
       "    <tr>\n",
       "      <th>110</th>\n",
       "      <td>1</td>\n",
       "      <td>1</td>\n",
       "      <td>1</td>\n",
       "      <td>1</td>\n",
       "      <td>1</td>\n",
       "      <td>1</td>\n",
       "      <td>1</td>\n",
       "      <td>1</td>\n",
       "      <td>1</td>\n",
       "      <td>1</td>\n",
       "      <td>1</td>\n",
       "    </tr>\n",
       "    <tr>\n",
       "      <th>120</th>\n",
       "      <td>1</td>\n",
       "      <td>1</td>\n",
       "      <td>1</td>\n",
       "      <td>1</td>\n",
       "      <td>1</td>\n",
       "      <td>1</td>\n",
       "      <td>1</td>\n",
       "      <td>1</td>\n",
       "      <td>1</td>\n",
       "      <td>1</td>\n",
       "      <td>1</td>\n",
       "    </tr>\n",
       "    <tr>\n",
       "      <th>130</th>\n",
       "      <td>1</td>\n",
       "      <td>1</td>\n",
       "      <td>1</td>\n",
       "      <td>1</td>\n",
       "      <td>1</td>\n",
       "      <td>1</td>\n",
       "      <td>1</td>\n",
       "      <td>1</td>\n",
       "      <td>1</td>\n",
       "      <td>1</td>\n",
       "      <td>1</td>\n",
       "    </tr>\n",
       "    <tr>\n",
       "      <th>205</th>\n",
       "      <td>1</td>\n",
       "      <td>1</td>\n",
       "      <td>1</td>\n",
       "      <td>1</td>\n",
       "      <td>1</td>\n",
       "      <td>1</td>\n",
       "      <td>1</td>\n",
       "      <td>1</td>\n",
       "      <td>1</td>\n",
       "      <td>1</td>\n",
       "      <td>1</td>\n",
       "    </tr>\n",
       "    <tr>\n",
       "      <th>210</th>\n",
       "      <td>1</td>\n",
       "      <td>1</td>\n",
       "      <td>1</td>\n",
       "      <td>1</td>\n",
       "      <td>1</td>\n",
       "      <td>1</td>\n",
       "      <td>1</td>\n",
       "      <td>1</td>\n",
       "      <td>1</td>\n",
       "      <td>1</td>\n",
       "      <td>1</td>\n",
       "    </tr>\n",
       "    <tr>\n",
       "      <th>220</th>\n",
       "      <td>1</td>\n",
       "      <td>1</td>\n",
       "      <td>1</td>\n",
       "      <td>1</td>\n",
       "      <td>1</td>\n",
       "      <td>1</td>\n",
       "      <td>1</td>\n",
       "      <td>1</td>\n",
       "      <td>1</td>\n",
       "      <td>1</td>\n",
       "      <td>1</td>\n",
       "    </tr>\n",
       "    <tr>\n",
       "      <th>230</th>\n",
       "      <td>1</td>\n",
       "      <td>1</td>\n",
       "      <td>1</td>\n",
       "      <td>1</td>\n",
       "      <td>1</td>\n",
       "      <td>1</td>\n",
       "      <td>1</td>\n",
       "      <td>1</td>\n",
       "      <td>1</td>\n",
       "      <td>1</td>\n",
       "      <td>1</td>\n",
       "    </tr>\n",
       "    <tr>\n",
       "      <th>510</th>\n",
       "      <td>1</td>\n",
       "      <td>1</td>\n",
       "      <td>1</td>\n",
       "      <td>1</td>\n",
       "      <td>1</td>\n",
       "      <td>1</td>\n",
       "      <td>1</td>\n",
       "      <td>1</td>\n",
       "      <td>1</td>\n",
       "      <td>1</td>\n",
       "      <td>1</td>\n",
       "    </tr>\n",
       "    <tr>\n",
       "      <th>530</th>\n",
       "      <td>1</td>\n",
       "      <td>1</td>\n",
       "      <td>1</td>\n",
       "      <td>1</td>\n",
       "      <td>1</td>\n",
       "      <td>1</td>\n",
       "      <td>1</td>\n",
       "      <td>1</td>\n",
       "      <td>1</td>\n",
       "      <td>1</td>\n",
       "      <td>1</td>\n",
       "    </tr>\n",
       "    <tr>\n",
       "      <th>T30</th>\n",
       "      <td>1</td>\n",
       "      <td>1</td>\n",
       "      <td>1</td>\n",
       "      <td>1</td>\n",
       "      <td>1</td>\n",
       "      <td>1</td>\n",
       "      <td>1</td>\n",
       "      <td>1</td>\n",
       "      <td>1</td>\n",
       "      <td>1</td>\n",
       "      <td>1</td>\n",
       "    </tr>\n",
       "  </tbody>\n",
       "</table>\n",
       "</div>"
      ],
      "text/plain": [
       "EXPIRY  01Y  02Y  03M  03Y  05Y  06M  07Y  10Y  15Y  18M  20Y\n",
       "SPREAD                                                       \n",
       "110       1    1    1    1    1    1    1    1    1    1    1\n",
       "120       1    1    1    1    1    1    1    1    1    1    1\n",
       "130       1    1    1    1    1    1    1    1    1    1    1\n",
       "205       1    1    1    1    1    1    1    1    1    1    1\n",
       "210       1    1    1    1    1    1    1    1    1    1    1\n",
       "220       1    1    1    1    1    1    1    1    1    1    1\n",
       "230       1    1    1    1    1    1    1    1    1    1    1\n",
       "510       1    1    1    1    1    1    1    1    1    1    1\n",
       "530       1    1    1    1    1    1    1    1    1    1    1\n",
       "T30       1    1    1    1    1    1    1    1    1    1    1"
      ]
     },
     "execution_count": 80,
     "metadata": {},
     "output_type": "execute_result"
    }
   ],
   "source": [
    "tmp.pivot_table(index='SPREAD', columns='EXPIRY', values='SL CORR', aggfunc='count')"
   ]
  },
  {
   "cell_type": "code",
   "execution_count": 86,
   "metadata": {},
   "outputs": [
    {
     "name": "stderr",
     "output_type": "stream",
     "text": [
      "C:\\Users\\kklekota\\AppData\\Local\\Continuum\\anaconda3\\envs\\p3test\\lib\\site-packages\\ipykernel_launcher.py:1: PerformanceWarning: indexing past lexsort depth may impact performance.\n",
      "  \"\"\"Entry point for launching an IPython kernel.\n"
     ]
    }
   ],
   "source": [
    "tmp = df.loc[df.DATE.max(), 'EUR']\n",
    "tmp = tmp[tmp.SPREAD == '220']\n",
    "tmp['EXP_FLT'] = tmp['EXPIRY'].apply(lbl_to_float)\n",
    "tmp.to_clipboard()"
   ]
  },
  {
   "cell_type": "code",
   "execution_count": 83,
   "metadata": {},
   "outputs": [],
   "source": [
    "def lbl_to_float(lbl):\n",
    "    res = float(lbl[:-1])\n",
    "    suffix = lbl[-1]\n",
    "    if suffix == 'Y': \n",
    "        return res\n",
    "    if suffix == 'M':\n",
    "        return res / 12.0\n",
    "    raise NotImplemented()"
   ]
  },
  {
   "cell_type": "code",
   "execution_count": 85,
   "metadata": {},
   "outputs": [
    {
     "data": {
      "text/plain": [
       "array(['EUR', 'USD', nan], dtype=object)"
      ]
     },
     "execution_count": 85,
     "metadata": {},
     "output_type": "execute_result"
    }
   ],
   "source": [
    "df.CCY.unique()"
   ]
  },
  {
   "cell_type": "code",
   "execution_count": 92,
   "metadata": {},
   "outputs": [
    {
     "name": "stderr",
     "output_type": "stream",
     "text": [
      "C:\\Users\\kklekota\\AppData\\Local\\Continuum\\anaconda3\\envs\\p3test\\lib\\site-packages\\ipykernel_launcher.py:1: PerformanceWarning: indexing past lexsort depth may impact performance.\n",
      "  \"\"\"Entry point for launching an IPython kernel.\n",
      "C:\\Users\\kklekota\\AppData\\Local\\Continuum\\anaconda3\\envs\\p3test\\lib\\site-packages\\ipykernel_launcher.py:2: SettingWithCopyWarning: \n",
      "A value is trying to be set on a copy of a slice from a DataFrame.\n",
      "Try using .loc[row_indexer,col_indexer] = value instead\n",
      "\n",
      "See the caveats in the documentation: http://pandas.pydata.org/pandas-docs/stable/indexing.html#indexing-view-versus-copy\n",
      "  \n"
     ]
    }
   ],
   "source": [
    "tmp = df.loc[df.DATE.max(), 'EUR']\n",
    "tmp['EXP_FLT'] = tmp['EXPIRY'].apply(lbl_to_float)"
   ]
  },
  {
   "cell_type": "code",
   "execution_count": 93,
   "metadata": {},
   "outputs": [],
   "source": [
    "tmp.pivot_table(index='EXP_FLT', columns='SPREAD', values='SP_PRM').to_clipboard()"
   ]
  },
  {
   "cell_type": "code",
   "execution_count": 91,
   "metadata": {},
   "outputs": [
    {
     "data": {
      "text/plain": [
       "datetime.date(2019, 3, 29)"
      ]
     },
     "execution_count": 91,
     "metadata": {},
     "output_type": "execute_result"
    }
   ],
   "source": [
    "df.DATE.max()"
   ]
  },
  {
   "cell_type": "code",
   "execution_count": 108,
   "metadata": {},
   "outputs": [],
   "source": [
    "df = md.get_store()['CMS_AS']"
   ]
  },
  {
   "cell_type": "code",
   "execution_count": 109,
   "metadata": {},
   "outputs": [],
   "source": [
    "tmp = df.loc[df.DATE.max()]"
   ]
  },
  {
   "cell_type": "code",
   "execution_count": 110,
   "metadata": {},
   "outputs": [
    {
     "data": {
      "text/html": [
       "<div>\n",
       "<style scoped>\n",
       "    .dataframe tbody tr th:only-of-type {\n",
       "        vertical-align: middle;\n",
       "    }\n",
       "\n",
       "    .dataframe tbody tr th {\n",
       "        vertical-align: top;\n",
       "    }\n",
       "\n",
       "    .dataframe thead th {\n",
       "        text-align: right;\n",
       "    }\n",
       "</style>\n",
       "<table border=\"1\" class=\"dataframe\">\n",
       "  <thead>\n",
       "    <tr style=\"text-align: right;\">\n",
       "      <th></th>\n",
       "      <th>ATM_CORRELATION</th>\n",
       "      <th>ATM_CORRELEATION</th>\n",
       "      <th>ATM_CORRELEATION\"</th>\n",
       "      <th>ATM_STRIKE</th>\n",
       "      <th>CCY</th>\n",
       "      <th>CLOSING_STRIKE</th>\n",
       "      <th>DATE</th>\n",
       "      <th>EXPIRY</th>\n",
       "      <th>RIC</th>\n",
       "      <th>SPREAD</th>\n",
       "      <th>STRADDLE</th>\n",
       "    </tr>\n",
       "    <tr>\n",
       "      <th>CCY</th>\n",
       "      <th></th>\n",
       "      <th></th>\n",
       "      <th></th>\n",
       "      <th></th>\n",
       "      <th></th>\n",
       "      <th></th>\n",
       "      <th></th>\n",
       "      <th></th>\n",
       "      <th></th>\n",
       "      <th></th>\n",
       "      <th></th>\n",
       "    </tr>\n",
       "  </thead>\n",
       "  <tbody>\n",
       "    <tr>\n",
       "      <th>EUR</th>\n",
       "      <td>0.712</td>\n",
       "      <td>NaN</td>\n",
       "      <td>NaN</td>\n",
       "      <td>38.0</td>\n",
       "      <td>EUR</td>\n",
       "      <td>NaN</td>\n",
       "      <td>2019-03-29</td>\n",
       "      <td>01Y</td>\n",
       "      <td>COSOAEUR10501Y</td>\n",
       "      <td>105</td>\n",
       "      <td>9.8</td>\n",
       "    </tr>\n",
       "    <tr>\n",
       "      <th>EUR</th>\n",
       "      <td>0.898</td>\n",
       "      <td>NaN</td>\n",
       "      <td>NaN</td>\n",
       "      <td>46.3</td>\n",
       "      <td>EUR</td>\n",
       "      <td>NaN</td>\n",
       "      <td>2019-03-29</td>\n",
       "      <td>05Y</td>\n",
       "      <td>COSOAEUR10505Y</td>\n",
       "      <td>105</td>\n",
       "      <td>115</td>\n",
       "    </tr>\n",
       "    <tr>\n",
       "      <th>EUR</th>\n",
       "      <td>0.930</td>\n",
       "      <td>NaN</td>\n",
       "      <td>NaN</td>\n",
       "      <td>41.8</td>\n",
       "      <td>EUR</td>\n",
       "      <td>NaN</td>\n",
       "      <td>2019-03-29</td>\n",
       "      <td>10Y</td>\n",
       "      <td>COSOAEUR10510Y</td>\n",
       "      <td>105</td>\n",
       "      <td>316.3</td>\n",
       "    </tr>\n",
       "    <tr>\n",
       "      <th>EUR</th>\n",
       "      <td>0.933</td>\n",
       "      <td>NaN</td>\n",
       "      <td>NaN</td>\n",
       "      <td>25.4</td>\n",
       "      <td>EUR</td>\n",
       "      <td>NaN</td>\n",
       "      <td>2019-03-29</td>\n",
       "      <td>20Y</td>\n",
       "      <td>COSOAEUR10520Y</td>\n",
       "      <td>105</td>\n",
       "      <td>935.5</td>\n",
       "    </tr>\n",
       "    <tr>\n",
       "      <th>EUR</th>\n",
       "      <td>0.543</td>\n",
       "      <td>NaN</td>\n",
       "      <td>NaN</td>\n",
       "      <td>85.1</td>\n",
       "      <td>EUR</td>\n",
       "      <td>NaN</td>\n",
       "      <td>2019-03-29</td>\n",
       "      <td>01Y</td>\n",
       "      <td>COSOAEUR11001Y</td>\n",
       "      <td>110</td>\n",
       "      <td>13.9</td>\n",
       "    </tr>\n",
       "  </tbody>\n",
       "</table>\n",
       "</div>"
      ],
      "text/plain": [
       "     ATM_CORRELATION  ATM_CORRELEATION  ATM_CORRELEATION\"  ATM_STRIKE  CCY  \\\n",
       "CCY                                                                          \n",
       "EUR            0.712               NaN                NaN        38.0  EUR   \n",
       "EUR            0.898               NaN                NaN        46.3  EUR   \n",
       "EUR            0.930               NaN                NaN        41.8  EUR   \n",
       "EUR            0.933               NaN                NaN        25.4  EUR   \n",
       "EUR            0.543               NaN                NaN        85.1  EUR   \n",
       "\n",
       "    CLOSING_STRIKE        DATE EXPIRY             RIC SPREAD STRADDLE  \n",
       "CCY                                                                    \n",
       "EUR            NaN  2019-03-29    01Y  COSOAEUR10501Y    105      9.8  \n",
       "EUR            NaN  2019-03-29    05Y  COSOAEUR10505Y    105      115  \n",
       "EUR            NaN  2019-03-29    10Y  COSOAEUR10510Y    105    316.3  \n",
       "EUR            NaN  2019-03-29    20Y  COSOAEUR10520Y    105    935.5  \n",
       "EUR            NaN  2019-03-29    01Y  COSOAEUR11001Y    110     13.9  "
      ]
     },
     "execution_count": 110,
     "metadata": {},
     "output_type": "execute_result"
    }
   ],
   "source": [
    "tmp.head()"
   ]
  },
  {
   "cell_type": "code",
   "execution_count": 112,
   "metadata": {},
   "outputs": [
    {
     "data": {
      "text/plain": [
       "Index(['ATM_CORRELATION', 'ATM_CORRELEATION', 'ATM_CORRELEATION\"',\n",
       "       'ATM_STRIKE', 'CCY', 'CLOSING_STRIKE', 'DATE', 'EXPIRY', 'RIC',\n",
       "       'SPREAD', 'STRADDLE'],\n",
       "      dtype='object')"
      ]
     },
     "execution_count": 112,
     "metadata": {},
     "output_type": "execute_result"
    }
   ],
   "source": [
    "tmp.columns"
   ]
  },
  {
   "cell_type": "code",
   "execution_count": 119,
   "metadata": {},
   "outputs": [],
   "source": [
    "fpath = r\"D:\\Work\\Issues\\macs\\20190408_tsr_debug\\irsmform.xml\"\n",
    "_, irsmform = xml_parser.get_xml(fpath)\n",
    "dsc_curve, sprd_curves = xml_parser.get_curves(irsmform)"
   ]
  },
  {
   "cell_type": "code",
   "execution_count": 114,
   "metadata": {},
   "outputs": [],
   "source": [
    "fpath = r\"D:\\Work\\Issues\\macs\\20190408_tsr_debug\\irsmout.xml\"\n",
    "_, irsmout = xml_parser.get_xml(fpath)"
   ]
  },
  {
   "cell_type": "code",
   "execution_count": 115,
   "metadata": {},
   "outputs": [],
   "source": [
    "cal_bskt = [x for x in xml_parser.get_calib_basket(irsmout) if x.cal_premium > 0.0]"
   ]
  },
  {
   "cell_type": "code",
   "execution_count": 116,
   "metadata": {},
   "outputs": [
    {
     "data": {
      "text/plain": [
       "{'_dcfs': array([1.01388889, 1.01388889, 1.01944444, 1.01111111, 1.01388889,\n",
       "        1.01388889, 1.01666667, 1.01944444, 1.01111111, 1.01111111]),\n",
       " '_expiry': 5.0027397260274,\n",
       " '_libor_tenor': 6,\n",
       " '_pmnt_dates': array([ 6.00821918,  7.00821918,  8.01369863,  9.0109589 , 10.0109589 ,\n",
       "        11.0109589 , 12.01369863, 13.01917808, 14.01643836, 15.01369863]),\n",
       " '_start_date': 5.0082191780822,\n",
       " '_vol': Volatility(value=0.195729, type='SLN', shift_size=0.02),\n",
       " 'annuity': 9.2110240048811,\n",
       " 'cal_premium': 0.0067790592705,\n",
       " 'cal_type': 'ATM',\n",
       " 'cal_vol': 0.195729,\n",
       " 'fwd': 0.0194777798149,\n",
       " 'fwdAdj': 0.0223124122594,\n",
       " 'fwdAdjModel': 0.0,\n",
       " 'lvl': 0,\n",
       " 'strike': 0.019474121174592,\n",
       " 'tgt_premium': nan}"
      ]
     },
     "execution_count": 116,
     "metadata": {},
     "output_type": "execute_result"
    }
   ],
   "source": [
    "cal_bskt[0].__dict__"
   ]
  },
  {
   "cell_type": "code",
   "execution_count": 118,
   "metadata": {},
   "outputs": [],
   "source": [
    "from fox_toolbox.sprd import tsr"
   ]
  },
  {
   "cell_type": "code",
   "execution_count": 121,
   "metadata": {},
   "outputs": [
    {
     "data": {
      "text/plain": [
       "(0.4787268355748829, 0.09717395286506701)"
      ]
     },
     "execution_count": 121,
     "metadata": {},
     "output_type": "execute_result"
    }
   ],
   "source": [
    "mr = 0.0400000000000\n",
    "pmnt = 6.008219\n",
    "tsr_params = tsr.get_linear_coeffs(cal_bskt[0], dsc_curve, mr, pmnt, sprd_curves[0])\n",
    "tsr_params"
   ]
  },
  {
   "cell_type": "code",
   "execution_count": 120,
   "metadata": {},
   "outputs": [
    {
     "name": "stdout",
     "output_type": "stream",
     "text": [
      "Help on function get_linear_coeffs in module fox_toolbox.sprd.tsr:\n",
      "\n",
      "get_linear_coeffs(cal_instr, main_curve, mr:float, pmnt_date:float, fwd_curve=None)\n",
      "\n"
     ]
    }
   ],
   "source": [
    "help(tsr.get_linear_coeffs)"
   ]
  },
  {
   "cell_type": "code",
   "execution_count": null,
   "metadata": {},
   "outputs": [],
   "source": [
    "a ;   0.4787268025896 \n",
    "b ;   0.0971739573781 "
   ]
  }
 ],
 "metadata": {
  "kernelspec": {
   "display_name": "p3test",
   "language": "python",
   "name": "p3test"
  },
  "language_info": {
   "codemirror_mode": {
    "name": "ipython",
    "version": 3
   },
   "file_extension": ".py",
   "mimetype": "text/x-python",
   "name": "python",
   "nbconvert_exporter": "python",
   "pygments_lexer": "ipython3",
   "version": "3.6.4"
  }
 },
 "nbformat": 4,
 "nbformat_minor": 2
}
